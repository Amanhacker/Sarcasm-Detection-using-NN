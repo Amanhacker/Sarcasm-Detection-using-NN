{
 "cells": [
  {
   "cell_type": "code",
   "execution_count": 1,
   "metadata": {},
   "outputs": [
    {
     "name": "stdout",
     "output_type": "stream",
     "text": [
      "\u001b[34mDATA\u001b[m\u001b[m/                               \u001b[31mcrossfolds.sh\u001b[m\u001b[m*\r\n",
      "GoogleNews-vectors-negative300.bin  \u001b[31minit.sh\u001b[m\u001b[m*\r\n",
      "README.md                           notebook.ipynb\r\n",
      "Untitled.ipynb                      \u001b[31monefold.sh\u001b[m\u001b[m*\r\n",
      "\u001b[34maux\u001b[m\u001b[m/                                \u001b[31mpreprocess_bamman.sh\u001b[m\u001b[m*\r\n",
      "bamman_redux.txt                    \u001b[31msarcasm_cnn.sh\u001b[m\u001b[m*\r\n",
      "bamman_redux_ids.txt                usr2vec_400_master.txt\r\n",
      "\u001b[34mcode\u001b[m\u001b[m/                               word2vec.txt\r\n"
     ]
    }
   ],
   "source": [
    "ls "
   ]
  },
  {
   "cell_type": "markdown",
   "metadata": {},
   "source": [
    "##### 3. Get the data"
   ]
  },
  {
   "cell_type": "code",
   "execution_count": 7,
   "metadata": {},
   "outputs": [
    {
     "name": "stderr",
     "output_type": "stream",
     "text": [
      "/Users/prahalarora/anaconda/envs/Ana2.7/lib/python2.7/site-packages/bs4/__init__.py:181: UserWarning: No parser was explicitly specified, so I'm using the best available HTML parser for this system (\"lxml\"). This usually isn't a problem, but if you run this code on another system, or in a different virtual environment, it may use a different parser and behave differently.\n",
      "\n",
      "The code that caused this warning is on line 31 of the file code/my_utils/download_tweets.py. To get rid of this warning, change code that looks like this:\n",
      "\n",
      " BeautifulSoup([your markup])\n",
      "\n",
      "to this:\n",
      "\n",
      " BeautifulSoup([your markup], \"lxml\")\n",
      "\n",
      "  markup_type=markup_type))\n"
     ]
    }
   ],
   "source": [
    "%%bash\n",
    "python code/my_utils/download_tweets.py bamman_redux_ids.txt > bamman_redux.txt"
   ]
  },
  {
   "cell_type": "markdown",
   "metadata": {},
   "source": [
    "##### 2. Get Word Embeddings and User Embeddings"
   ]
  },
  {
   "cell_type": "code",
   "execution_count": 2,
   "metadata": {},
   "outputs": [
    {
     "name": "stdout",
     "output_type": "stream",
     "text": [
      "word embeddings:  word2vec.txt\n",
      "user embeddings:  usr2vec_400_master.txt\n"
     ]
    }
   ],
   "source": [
    "%%bash\n",
    "mkdir DATA/txt\n",
    "cp bamman_redux.txt DATA/txt/bamman_redux.txt"
   ]
  },
  {
   "cell_type": "markdown",
   "metadata": {},
   "source": [
    "##### 4. Extract Vocabulary and Word Embeddings"
   ]
  },
  {
   "cell_type": "code",
   "execution_count": 5,
   "metadata": {},
   "outputs": [
    {
     "name": "stdout",
     "output_type": "stream",
     "text": [
      "\u001b]0;IPython: CSE291_NLP/CUE-CNN\u0007Preprocess Data\n",
      "Load Word Embeddings\n",
      "3534/14513 (24.35 %) words in vocabulary found no embedding\n"
     ]
    }
   ],
   "source": [
    "%%bash\n",
    "EMB_PATH_IN=\"DATA/embeddings/words.txt\"\n",
    "EMB_PATH_OUT=\"DATA/embeddings/filtered_embs.txt\"\n",
    "TXT_IN=\"DATA/txt/bamman_redux.txt\"\n",
    "TXT_OUT=\"DATA/txt/bamman_clean.txt\"\n",
    "python aux/preprocess_bamman.py -input   ${TXT_IN} \\\n",
    "                                -out_txt ${TXT_OUT} \\\n",
    "                                -word_vectors ${EMB_PATH_IN} \\\n",
    "                                -out_vectors  ${EMB_PATH_OUT} \\"
   ]
  },
  {
   "cell_type": "code",
   "execution_count": 6,
   "metadata": {},
   "outputs": [
    {
     "name": "stdout",
     "output_type": "stream",
     "text": [
      "424063942164348928\tVato3forlife\t0\t@NonoB03 lmao hahah cochino she was a perfect Christain girl now you've turned her into a catholic nun! Hahahhahhaha orale ! Hahahha\n",
      "429350784850223104\tbesta90\t1\t@richard_neary hope so. Class player. #sarcasm\n",
      "522397523705872384\tUlsterBank_Help\t0\t@jamiehynds Hi, how many days were you advised the payment can take to credit? Can you confirm the fee you were charged? AS\n",
      "514625637974163456\tWynRichards\t0\t@vanbadham Arguably, it could be worse IMO\n",
      "481992089815625729\tdimples_misfit\t0\t“@ChristopherSoto: 😴- dear bae, you are bae, there's no other bae, bae on my mind” I'm glad to know 😂🙌\n",
      "532926621951721473\tUlsterBank_Help\t0\t@crustycraic I am sorry you have not yet received this. They need to help on the same number, as we have no access to the systems sadly. JP\n",
      "429681671685033985\tsloweddown\t0\t@JuliaHB1 Petitioning David Camaron To Recruit and pay for more Admiral Nurses . Petition by Jan Inman Clacton United Kingdom\n",
      "482530575748984832\tAdamEllis22\t0\t@benjaminryan too right! Just hope we received a just fee for him. As for the Bees- Alan Judge & Odubajo will be a tasty duo of wingers!\n",
      "439973448933462016\tB_Searcy4\t0\t@Sanchezioo I brought Greg some knee braces\n",
      "465725796947333120\tHeatherQ_ebooks\t0\t@MyCatEdwin \" but why would you deny me this pleasure\n",
      "\n",
      "\n",
      "424063942164348928\tVato3forlife\t0\t@user lmao hahah cochino she was a perfect christain girl now youve turned her into a catholic nun ! hahahhahhaha orale ! hahahha\n",
      "429350784850223104\tbesta90\t1\t@user hope so . class player .\n",
      "522397523705872384\tUlsterBank_Help\t0\t@user hi , how many days were you advised the payment can take to credit ? can you confirm the fee you were charged ? as\n",
      "514625637974163456\tWynRichards\t0\t@user arguably , it could be worse imo\n",
      "481992089815625729\tdimples_misfit\t0\t@user 😴 - dear bae , you are bae , theres no other bae , bae on my mind ” im glad to know 😂 🙌\n",
      "532926621951721473\tUlsterBank_Help\t0\t@user i am sorry you have not yet received this . they need to help on the same number , as we have no access to the systems sadly . jp\n",
      "429681671685033985\tsloweddown\t0\t@user petitioning david camaron to recruit and pay for more admiral nurses . petition by jan inman clacton united kingdom\n",
      "482530575748984832\tAdamEllis22\t0\t@user too right ! just hope we received a just fee for him . as for the bees - alan judge & odubajo will be a tasty duo of wingers !\n",
      "439973448933462016\tB_Searcy4\t0\t@user i brought greg some knee braces\n",
      "465725796947333120\tHeatherQ_ebooks\t0\t@user but why would you deny me this pleasure\n"
     ]
    }
   ],
   "source": [
    "%%bash\n",
    "head DATA/txt/bamman_redux.txt\n",
    "echo \"\"\n",
    "echo \"\"\n",
    "head DATA/txt/bamman_clean.txt"
   ]
  }
 ],
 "metadata": {
  "anaconda-cloud": {},
  "kernelspec": {
   "display_name": "Python 2",
   "language": "python",
   "name": "python2"
  },
  "language_info": {
   "codemirror_mode": {
    "name": "ipython",
    "version": 2
   },
   "file_extension": ".py",
   "mimetype": "text/x-python",
   "name": "python",
   "nbconvert_exporter": "python",
   "pygments_lexer": "ipython2",
   "version": "2.7.14"
  }
 },
 "nbformat": 4,
 "nbformat_minor": 1
}
